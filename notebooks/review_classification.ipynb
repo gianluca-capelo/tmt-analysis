{
 "cells": [
  {
   "cell_type": "code",
   "id": "initial_id",
   "metadata": {
    "collapsed": true,
    "ExecuteTime": {
     "end_time": "2025-07-21T13:36:09.267326Z",
     "start_time": "2025-07-21T13:36:09.009799Z"
    }
   },
   "source": [
    "import sys\n",
    "import os\n",
    "from datetime import datetime\n",
    "from pathlib import Path\n",
    "\n",
    "import pandas as pd\n",
    "import numpy as np\n",
    "import matplotlib.pyplot as plt\n",
    "import seaborn as sns\n",
    "from collections import Counter, defaultdict\n",
    "import logging\n",
    "from datetime import datetime\n",
    "import traceback\n",
    "\n",
    "from sklearn.model_selection import GridSearchCV, RepeatedStratifiedKFold, StratifiedKFold, LeaveOneOut\n",
    "from sklearn.utils.multiclass import unique_labels\n",
    "\n",
    "from sklearn.inspection import permutation_importance\n",
    "\n",
    "from sklearn.pipeline import Pipeline\n",
    "from sklearn.decomposition import PCA\n",
    "from sklearn.manifold import TSNE\n",
    "from sklearn.preprocessing import StandardScaler\n",
    "from sklearn.impute import SimpleImputer\n",
    "from sklearn.metrics import (\n",
    "    RocCurveDisplay, auc, accuracy_score, precision_score,\n",
    "    recall_score, f1_score, confusion_matrix, classification_report,\n",
    "    balanced_accuracy_score, roc_auc_score\n",
    ")\n",
    "from sklearn.ensemble import RandomForestClassifier\n",
    "from sklearn.svm import SVC\n",
    "from sklearn.linear_model import LogisticRegression\n",
    "from sklearn.feature_selection import RFE\n",
    "import xgboost as xgb\n",
    "from sklearn.metrics import ConfusionMatrixDisplay\n",
    "from sklearn.feature_selection import SelectKBest, f_classif\n",
    "import re\n",
    "import scipy"
   ],
   "outputs": [],
   "execution_count": 1
  },
  {
   "metadata": {
    "ExecuteTime": {
     "end_time": "2025-07-21T13:36:21.297244Z",
     "start_time": "2025-07-21T13:36:21.294483Z"
    }
   },
   "cell_type": "code",
   "source": [
    "pd.set_option('display.max_columns', None)\n",
    "\n",
    "sys.path.append(os.path.abspath(\"../src\"))"
   ],
   "id": "79d6d904def77153",
   "outputs": [],
   "execution_count": 2
  },
  {
   "metadata": {
    "ExecuteTime": {
     "end_time": "2025-07-21T13:36:34.965128Z",
     "start_time": "2025-07-21T13:36:34.937123Z"
    }
   },
   "cell_type": "code",
   "source": [
    "processed_path = '../data/processed/'\n",
    "# Read data\n",
    "df_digital_tmt_with_target = pd.read_csv(processed_path + 'df_digital_tmt_with_target.csv')\n",
    "demographic_df = pd.read_csv(processed_path + 'demographic_df.csv')\n",
    "non_digital_df = pd.read_csv(processed_path + 'non_digital_df.csv')\n",
    "df_digital_hand_and_eye = pd.read_csv(processed_path + 'df_digital_hand_and_eye.csv')\n",
    "digital_test_less_subjects = pd.read_csv(processed_path + 'digital_test_less_subjects.csv')\n",
    "non_digital_test_less_subjects = pd.read_csv(processed_path + 'non_digital_test_less_subjects.csv')\n",
    "\n",
    "\n",
    "# Final checks\n",
    "print(df_digital_tmt_with_target['group'].value_counts())\n",
    "print(demographic_df['group'].value_counts())\n",
    "print(non_digital_df['group'].value_counts())\n",
    "print(df_digital_hand_and_eye['group'].value_counts())\n",
    "print(digital_test_less_subjects['group'].value_counts())\n",
    "print(non_digital_test_less_subjects['group'].value_counts())"
   ],
   "id": "ba630ed71e739e23",
   "outputs": [
    {
     "name": "stdout",
     "output_type": "stream",
     "text": [
      "group\n",
      "1    43\n",
      "0    29\n",
      "Name: count, dtype: int64\n",
      "group\n",
      "1    43\n",
      "0    29\n",
      "Name: count, dtype: int64\n",
      "group\n",
      "1    43\n",
      "0    29\n",
      "Name: count, dtype: int64\n",
      "group\n",
      "1    43\n",
      "0    29\n",
      "Name: count, dtype: int64\n",
      "group\n",
      "1    43\n",
      "0    29\n",
      "Name: count, dtype: int64\n",
      "group\n",
      "1    43\n",
      "0    29\n",
      "Name: count, dtype: int64\n"
     ]
    }
   ],
   "execution_count": 3
  },
  {
   "metadata": {},
   "cell_type": "markdown",
   "source": "### Logging setup",
   "id": "e361fc381bb05380"
  },
  {
   "metadata": {
    "ExecuteTime": {
     "end_time": "2025-07-21T13:36:47.827699Z",
     "start_time": "2025-07-21T13:36:47.824244Z"
    }
   },
   "cell_type": "code",
   "source": [
    "# Configure logging\n",
    "# Ensure logs folder exists\n",
    "log_dir = \"logs\"\n",
    "os.makedirs(log_dir, exist_ok=True)\n",
    "# Create a fresh log file each run\n",
    "log_filename = os.path.join(log_dir, f\"error_log_{datetime.now().strftime('%Y-%m-%d_%H-%M-%S')}.log\")\n",
    "logging.basicConfig(filename=log_filename,\n",
    "                    level=logging.ERROR,\n",
    "                    format='%(asctime)s - %(levelname)s - %(message)s')"
   ],
   "id": "2ad0a4cc2cf08ee7",
   "outputs": [],
   "execution_count": 4
  },
  {
   "metadata": {},
   "cell_type": "markdown",
   "source": "### Helper functions",
   "id": "794e7964115c6ef6"
  },
  {
   "metadata": {
    "ExecuteTime": {
     "end_time": "2025-07-21T13:37:44.562517Z",
     "start_time": "2025-07-21T13:37:44.557860Z"
    }
   },
   "cell_type": "code",
   "source": [
    "def extract_X_y_features(df):\n",
    "    df = df.drop('subject_id', axis=1)\n",
    "    print(\"group in X\", 'group' in df.iloc[:, :-1].columns)\n",
    "    print(\"suj in X\", 'suj' in df.iloc[:, :-1].columns)\n",
    "    X = df.iloc[:, :-1].values\n",
    "    y = df.iloc[:, -1].values\n",
    "    feature_names = df.columns[:-1]\n",
    "    assert 'subject_id' not in df.columns , \"'subject_id' still in the final dataframe\"\n",
    "    return X, y, feature_names\n",
    "\n",
    "def join_and_reorder(df1, df2):\n",
    "    df =  pd.merge(\n",
    "        df1,\n",
    "        df2.drop(columns='group'),\n",
    "        on='subject_id',\n",
    "        how='inner'\n",
    "    )\n",
    "    cols = [col for col in df.columns if col != 'group'] + ['group']\n",
    "    df = df[cols]\n",
    "    assert df.columns[-1] == 'group', \"'group' is not the last column after reordering\"\n",
    "    return df\n"
   ],
   "id": "6da64a33181cce61",
   "outputs": [],
   "execution_count": 6
  },
  {
   "metadata": {},
   "cell_type": "markdown",
   "source": "### Setup",
   "id": "cec47e492f517e31"
  },
  {
   "metadata": {
    "ExecuteTime": {
     "end_time": "2025-07-21T13:37:29.373529Z",
     "start_time": "2025-07-21T13:37:29.370410Z"
    }
   },
   "cell_type": "code",
   "source": [
    "n_splits = 2\n",
    "n_repeats = 1\n",
    "\n",
    "global_seed = 42\n",
    "inner_cv_seed = 50  # Fixed for reproducibility in inner CV\n",
    "perform_pca = False\n",
    "type_of_cv = 'loo'\n",
    "n_components = 4\n",
    "tune_hyperparameters = False\n",
    "feature_selection = True"
   ],
   "id": "df560d4b266ea515",
   "outputs": [],
   "execution_count": 5
  },
  {
   "metadata": {},
   "cell_type": "code",
   "outputs": [],
   "execution_count": null,
   "source": "",
   "id": "d17dbdd81e75f1fe"
  }
 ],
 "metadata": {
  "kernelspec": {
   "display_name": "Python 3",
   "language": "python",
   "name": "python3"
  },
  "language_info": {
   "codemirror_mode": {
    "name": "ipython",
    "version": 2
   },
   "file_extension": ".py",
   "mimetype": "text/x-python",
   "name": "python",
   "nbconvert_exporter": "python",
   "pygments_lexer": "ipython2",
   "version": "2.7.6"
  }
 },
 "nbformat": 4,
 "nbformat_minor": 5
}
