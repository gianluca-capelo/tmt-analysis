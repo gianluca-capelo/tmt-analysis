{
 "cells": [
  {
   "cell_type": "code",
   "id": "initial_id",
   "metadata": {
    "collapsed": true,
    "ExecuteTime": {
     "end_time": "2025-04-21T21:48:58.654824Z",
     "start_time": "2025-04-21T21:48:58.633786Z"
    }
   },
   "source": [
    "import pandas as pd\n",
    "\n",
    "from src.config import TRAIN_SET_PATH, EVAL_SET_PATH\n",
    "\n",
    "train_set = pd.read_csv(TRAIN_SET_PATH)\n",
    "eval_set = pd.read_csv(EVAL_SET_PATH)"
   ],
   "outputs": [],
   "execution_count": 1
  },
  {
   "metadata": {
    "ExecuteTime": {
     "end_time": "2025-04-21T21:49:30.371810Z",
     "start_time": "2025-04-21T21:49:30.366574Z"
    }
   },
   "cell_type": "code",
   "source": "len(train_set[\"subject_id\"].unique()),len(eval_set[\"subject_id\"].unique()) ",
   "id": "c9ccc70b2357d66b",
   "outputs": [
    {
     "data": {
      "text/plain": [
       "(72, 18)"
      ]
     },
     "execution_count": 4,
     "metadata": {},
     "output_type": "execute_result"
    }
   ],
   "execution_count": 4
  },
  {
   "metadata": {
    "ExecuteTime": {
     "end_time": "2025-04-21T21:50:01.201252Z",
     "start_time": "2025-04-21T21:50:01.195837Z"
    }
   },
   "cell_type": "code",
   "source": "train_set[\"group\"].value_counts(normalize=True)",
   "id": "d8910456b306756f",
   "outputs": [
    {
     "data": {
      "text/plain": [
       "group\n",
       "MCI    0.569444\n",
       "HC     0.430556\n",
       "Name: proportion, dtype: float64"
      ]
     },
     "execution_count": 6,
     "metadata": {},
     "output_type": "execute_result"
    }
   ],
   "execution_count": 6
  },
  {
   "metadata": {
    "ExecuteTime": {
     "end_time": "2025-04-21T21:50:10.790525Z",
     "start_time": "2025-04-21T21:50:10.772599Z"
    }
   },
   "cell_type": "code",
   "source": "eval_set[\"group\"].value_counts(normalize=True)",
   "id": "5c78f0877dc718d5",
   "outputs": [
    {
     "data": {
      "text/plain": [
       "group\n",
       "MCI    0.555556\n",
       "HC     0.444444\n",
       "Name: proportion, dtype: float64"
      ]
     },
     "execution_count": 7,
     "metadata": {},
     "output_type": "execute_result"
    }
   ],
   "execution_count": 7
  },
  {
   "metadata": {},
   "cell_type": "code",
   "outputs": [],
   "execution_count": null,
   "source": "",
   "id": "8b3706093af6c978"
  }
 ],
 "metadata": {
  "kernelspec": {
   "display_name": "Python 3",
   "language": "python",
   "name": "python3"
  },
  "language_info": {
   "codemirror_mode": {
    "name": "ipython",
    "version": 2
   },
   "file_extension": ".py",
   "mimetype": "text/x-python",
   "name": "python",
   "nbconvert_exporter": "python",
   "pygments_lexer": "ipython2",
   "version": "2.7.6"
  }
 },
 "nbformat": 4,
 "nbformat_minor": 5
}
