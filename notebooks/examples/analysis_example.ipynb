{
 "cells": [
  {
   "cell_type": "code",
   "execution_count": 3,
   "id": "e58dfd123d9cf479",
   "metadata": {
    "ExecuteTime": {
     "end_time": "2025-04-09T22:07:33.961633Z",
     "start_time": "2025-04-09T22:07:33.079751Z"
    }
   },
   "outputs": [],
   "source": [
    "\n",
    "from src.hand_analysis.loader.analysis_loader import load_analysis"
   ]
  },
  {
   "cell_type": "code",
   "execution_count": 4,
   "id": "initial_id",
   "metadata": {
    "ExecuteTime": {
     "end_time": "2025-04-09T22:08:00.258389Z",
     "start_time": "2025-04-09T22:07:33.974373Z"
    },
    "collapsed": true
   },
   "outputs": [
    {
     "ename": "TypeError",
     "evalue": "load_analysis() missing 4 required positional arguments: 'random_state', 'eval_size', 'split', and 'old_split_config_date'",
     "output_type": "error",
     "traceback": [
      "\u001b[0;31m---------------------------------------------------------------------------\u001b[0m",
      "\u001b[0;31mTypeError\u001b[0m                                 Traceback (most recent call last)",
      "Cell \u001b[0;32mIn[4], line 1\u001b[0m\n\u001b[0;32m----> 1\u001b[0m metrics_df \u001b[38;5;241m=\u001b[39m \u001b[43mload_analysis\u001b[49m\u001b[43m(\u001b[49m\u001b[43m)\u001b[49m\n\u001b[1;32m      2\u001b[0m metrics_df\u001b[38;5;241m.\u001b[39mhead()\n",
      "\u001b[0;31mTypeError\u001b[0m: load_analysis() missing 4 required positional arguments: 'random_state', 'eval_size', 'split', and 'old_split_config_date'"
     ]
    }
   ],
   "source": [
    "metrics_df = load_analysis()\n",
    "metrics_df.head()\n"
   ]
  },
  {
   "cell_type": "code",
   "execution_count": 3,
   "id": "52d085193136066d",
   "metadata": {
    "ExecuteTime": {
     "end_time": "2025-04-09T22:08:00.455089Z",
     "start_time": "2025-04-09T22:08:00.450363Z"
    }
   },
   "outputs": [
    {
     "data": {
      "text/plain": [
       "90"
      ]
     },
     "execution_count": 3,
     "metadata": {},
     "output_type": "execute_result"
    }
   ],
   "source": [
    "len(metrics_df[\"subject_id\"].unique())"
   ]
  },
  {
   "cell_type": "code",
   "execution_count": 4,
   "id": "b2bcd4776f2ae982",
   "metadata": {
    "ExecuteTime": {
     "end_time": "2025-04-09T22:08:00.518675Z",
     "start_time": "2025-04-09T22:08:00.515432Z"
    }
   },
   "outputs": [],
   "source": [
    "from src import config\n",
    "\n",
    "#Check if one of this is in the subject_id\n",
    "manual_rejected_subjects = config.MANUAL_REJECTED_SUBJECTS\n",
    "\n",
    "subjects_id = metrics_df[\"subject_id\"].unique()\n",
    "\n"
   ]
  }
 ],
 "metadata": {
  "kernelspec": {
   "display_name": "et_feedback",
   "language": "python",
   "name": "python3"
  },
  "language_info": {
   "codemirror_mode": {
    "name": "ipython",
    "version": 3
   },
   "file_extension": ".py",
   "mimetype": "text/x-python",
   "name": "python",
   "nbconvert_exporter": "python",
   "pygments_lexer": "ipython3",
   "version": "3.10.16"
  }
 },
 "nbformat": 4,
 "nbformat_minor": 5
}
