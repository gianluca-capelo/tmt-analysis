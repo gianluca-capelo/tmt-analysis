{
 "cells": [
  {
   "cell_type": "code",
   "id": "initial_id",
   "metadata": {
    "collapsed": true,
    "ExecuteTime": {
     "end_time": "2025-09-25T19:17:07.443342Z",
     "start_time": "2025-09-25T19:16:49.189883Z"
    }
   },
   "source": [
    "from notebooks.playground.check_subject import plot_with_color\n",
    "from src.hand_analysis.mapper.psychopy_mapper import PsychopyTMTMapper\n",
    "from neurotask.tmt.tmt_analyzer import TMTAnalyzer\n",
    "from src import config\n",
    "from src.hand_analysis.runner.run_hand_analysis import run_analysis_with_configuration_parameters\n",
    "analyzer = TMTAnalyzer(\n",
    "        mapper=PsychopyTMTMapper(),\n",
    "        dataset_path=config.PYXATIONS_PATIENTS_DATA_DIR,\n",
    "        output_path=config.DATA_DIR\n",
    "    )\n",
    "#analysis = run_analysis_with_configuration_parameters(config.DATA_DIR)\n",
    "experiment = analyzer.get_experiment()"
   ],
   "outputs": [
    {
     "name": "stdout",
     "output_type": "stream",
     "text": [
      "data_path: /home/gianluca/Research/tmt-analysis/data/patients_data_pyxations \n",
      "\n",
      "\n",
      "experiment.subjects: dict_keys(['0001', '0002', '0003', '0004', '0005', '0006', '0007', '0008', '0009', '0010', '0011', '0012', '0013', '0014', '0015', '0016', '0017', '0018', '0019', '0020', '0021', '0022', '0023', '0024', '0025', '0026', '0027', '0028', '0029', '0030', '0031', '0032', '0033', '0034', '0035', '0036', '0037', '0038', '0039', '0040', '0041', '0042', '0043', '0044', '0045', '0046', '0047', '0048', '0049', '0050', '0051', '0052', '0053', '0054', '0055', '0056', '0057', '0058', '0059', '0060', '0061', '0062', '0063', '0064', '0065', '0066', '0067', '0068', '0069', '0070', '0071', '0072', '0073', '0074', '0075', '0076', '0077', '0078', '0079', '0080', '0081', '0082', '0083', '0084', '0085', '0086', '0087', '0088', '0089', '0090', '0091', '0092', '0093', '0094', '0095', '0096', '0097', '0098', '0099', '0100', '0101'])\n",
      "dict_keys(['experimento'])\n",
      "Behavior data cargado desde /home/gianluca/Research/tmt-analysis/data/patients_data_pyxations/sub-0001/ses-experimento/behavioral/1_experimento_condicion_1_2024-01-22_14h54.07.800.csv\n",
      "dict_keys(['experimento'])\n"
     ]
    },
    {
     "name": "stderr",
     "output_type": "stream",
     "text": [
      "WARNING:root:No target was hit in the cursor trail.\n"
     ]
    },
    {
     "name": "stdout",
     "output_type": "stream",
     "text": [
      "Behavior data cargado desde /home/gianluca/Research/tmt-analysis/data/patients_data_pyxations/sub-0002/ses-experimento/behavioral/2_experimento_condicion_1_2024-01-22_15h32.05.671.csv\n",
      "dict_keys(['experimento'])\n",
      "Behavior data cargado desde /home/gianluca/Research/tmt-analysis/data/patients_data_pyxations/sub-0003/ses-experimento/behavioral/3_experimento_condicion_1_2024-01-22_15h59.33.260.csv\n"
     ]
    },
    {
     "name": "stderr",
     "output_type": "stream",
     "text": [
      "WARNING:root:No target was hit in the cursor trail.\n",
      "WARNING:root:No target was hit in the cursor trail.\n",
      "WARNING:root:No target was hit in the cursor trail.\n"
     ]
    },
    {
     "name": "stdout",
     "output_type": "stream",
     "text": [
      "dict_keys(['experimento'])\n",
      "Behavior data cargado desde /home/gianluca/Research/tmt-analysis/data/patients_data_pyxations/sub-0004/ses-experimento/behavioral/4_experimento_condicion_1_2024-01-22_16h26.46.379.csv\n",
      "dict_keys(['experimento'])\n"
     ]
    },
    {
     "name": "stderr",
     "output_type": "stream",
     "text": [
      "WARNING:root:No target was hit in the cursor trail.\n"
     ]
    },
    {
     "name": "stdout",
     "output_type": "stream",
     "text": [
      "Behavior data cargado desde /home/gianluca/Research/tmt-analysis/data/patients_data_pyxations/sub-0005/ses-experimento/behavioral/5_experimento_condicion_1_2024-01-22_17h11.15.994.csv\n",
      "dict_keys(['experimento'])\n",
      "Behavior data cargado desde /home/gianluca/Research/tmt-analysis/data/patients_data_pyxations/sub-0006/ses-experimento/behavioral/6_experimento_condicion_1_2024-01-29_14h55.32.666.csv\n",
      "dict_keys(['experimento'])\n"
     ]
    },
    {
     "name": "stderr",
     "output_type": "stream",
     "text": [
      "WARNING:root:No target was hit in the cursor trail.\n",
      "WARNING:root:No target was hit in the cursor trail.\n",
      "WARNING:root:No target was hit in the cursor trail.\n",
      "WARNING:root:No target was hit in the cursor trail.\n"
     ]
    },
    {
     "name": "stdout",
     "output_type": "stream",
     "text": [
      "Behavior data cargado desde /home/gianluca/Research/tmt-analysis/data/patients_data_pyxations/sub-0007/ses-experimento/behavioral/7_experimento_condicion_1_2024-01-29_16h18.06.963.csv\n",
      "dict_keys(['experimento'])\n",
      "Behavior data cargado desde /home/gianluca/Research/tmt-analysis/data/patients_data_pyxations/sub-0008/ses-experimento/behavioral/8_experimento_condicion_1_2024-02-08_10h21.02.490.csv\n",
      "dict_keys(['experimento'])\n",
      "Behavior data cargado desde /home/gianluca/Research/tmt-analysis/data/patients_data_pyxations/sub-0009/ses-experimento/behavioral/9_experimento_condicion_1_2024-02-15_09h43.16.789.csv\n",
      "dict_keys(['experimento'])\n",
      "Behavior data cargado desde /home/gianluca/Research/tmt-analysis/data/patients_data_pyxations/sub-0010/ses-experimento/behavioral/10_experimento_condicion_1_2024-02-15_10h40.07.792.csv\n",
      "dict_keys(['experimento'])\n",
      "Behavior data cargado desde /home/gianluca/Research/tmt-analysis/data/patients_data_pyxations/sub-0011/ses-experimento/behavioral/11_experimento_condicion_1_2024-02-15_11h12.00.387.csv\n",
      "dict_keys(['experimento'])\n",
      "Behavior data cargado desde /home/gianluca/Research/tmt-analysis/data/patients_data_pyxations/sub-0012/ses-experimento/behavioral/12_experimento_condicion_1_2024-02-15_11h56.51.532.csv\n",
      "dict_keys(['experimento'])\n",
      "Behavior data cargado desde /home/gianluca/Research/tmt-analysis/data/patients_data_pyxations/sub-0013/ses-experimento/behavioral/13_experimento_condicion_1_2024-02-19_15h14.22.486.csv\n",
      "dict_keys(['experimento'])\n",
      "Behavior data cargado desde /home/gianluca/Research/tmt-analysis/data/patients_data_pyxations/sub-0014/ses-experimento/behavioral/14_experimento_condicion_1_2024-02-19_15h50.15.504.csv\n",
      "dict_keys(['experimento'])\n",
      "Behavior data cargado desde /home/gianluca/Research/tmt-analysis/data/patients_data_pyxations/sub-0015/ses-experimento/behavioral/15_experimento_condicion_1_2024-02-19_16h20.57.844.csv\n",
      "dict_keys(['experimento'])\n",
      "Behavior data cargado desde /home/gianluca/Research/tmt-analysis/data/patients_data_pyxations/sub-0016/ses-experimento/behavioral/16_experimento_condicion_1_2024-02-19_16h42.34.100.csv\n",
      "dict_keys(['experimento'])\n",
      "Behavior data cargado desde /home/gianluca/Research/tmt-analysis/data/patients_data_pyxations/sub-0017/ses-experimento/behavioral/17_experimento_condicion_1_2024-02-19_17h06.14.223.csv\n"
     ]
    },
    {
     "name": "stderr",
     "output_type": "stream",
     "text": [
      "WARNING:root:No target was hit in the cursor trail.\n",
      "WARNING:root:No target was hit in the cursor trail.\n"
     ]
    },
    {
     "name": "stdout",
     "output_type": "stream",
     "text": [
      "dict_keys(['experimento'])\n",
      "Behavior data cargado desde /home/gianluca/Research/tmt-analysis/data/patients_data_pyxations/sub-0018/ses-experimento/behavioral/18_experimento_condicion_1_2024-02-22_10h21.16.561.csv\n",
      "dict_keys(['experimento'])\n",
      "Behavior data cargado desde /home/gianluca/Research/tmt-analysis/data/patients_data_pyxations/sub-0019/ses-experimento/behavioral/19_experimento_condicion_1_2024-02-22_11h10.09.533.csv\n",
      "dict_keys(['experimento'])\n",
      "Behavior data cargado desde /home/gianluca/Research/tmt-analysis/data/patients_data_pyxations/sub-0020/ses-experimento/behavioral/20_experimento_condicion_1_2024-02-22_11h46.21.849.csv\n",
      "dict_keys(['experimento'])\n",
      "Behavior data cargado desde /home/gianluca/Research/tmt-analysis/data/patients_data_pyxations/sub-0021/ses-experimento/behavioral/21_experimento_condicion_1_2024-02-26_14h52.06.297.csv\n",
      "dict_keys(['experimento'])\n",
      "Behavior data cargado desde /home/gianluca/Research/tmt-analysis/data/patients_data_pyxations/sub-0022/ses-experimento/behavioral/22_experimento_condicion_1_2024-02-26_15h16.02.798.csv\n",
      "dict_keys(['experimento'])\n",
      "Behavior data cargado desde /home/gianluca/Research/tmt-analysis/data/patients_data_pyxations/sub-0023/ses-experimento/behavioral/23_experimento_condicion_1_2024-02-26_15h39.29.095.csv\n",
      "dict_keys(['experimento'])\n"
     ]
    },
    {
     "name": "stderr",
     "output_type": "stream",
     "text": [
      "WARNING:root:No target was hit in the cursor trail.\n",
      "WARNING:root:No target was hit in the cursor trail.\n",
      "WARNING:root:No target was hit in the cursor trail.\n"
     ]
    },
    {
     "name": "stdout",
     "output_type": "stream",
     "text": [
      "Behavior data cargado desde /home/gianluca/Research/tmt-analysis/data/patients_data_pyxations/sub-0024/ses-experimento/behavioral/24_experimento_condicion_1_2024-02-26_16h21.11.177.csv\n",
      "dict_keys(['experimento'])\n",
      "Behavior data cargado desde /home/gianluca/Research/tmt-analysis/data/patients_data_pyxations/sub-0025/ses-experimento/behavioral/25_experimento_condicion_1_2024-02-26_17h27.24.078.csv\n",
      "dict_keys(['experimento'])\n",
      "Behavior data cargado desde /home/gianluca/Research/tmt-analysis/data/patients_data_pyxations/sub-0026/ses-experimento/behavioral/26_experimento_condicion_1_2024-03-04_13h50.12.248.csv\n",
      "dict_keys(['experimento'])\n",
      "Behavior data cargado desde /home/gianluca/Research/tmt-analysis/data/patients_data_pyxations/sub-0027/ses-experimento/behavioral/27_experimento_condicion_1_2024-03-04_14h52.31.368.csv\n",
      "dict_keys(['experimento'])\n",
      "Behavior data cargado desde /home/gianluca/Research/tmt-analysis/data/patients_data_pyxations/sub-0028/ses-experimento/behavioral/28_experimento_condicion_1_2024-03-04_17h10.36.060.csv\n"
     ]
    },
    {
     "name": "stderr",
     "output_type": "stream",
     "text": [
      "WARNING:root:No target was hit in the cursor trail.\n",
      "WARNING:root:No target was hit in the cursor trail.\n"
     ]
    },
    {
     "name": "stdout",
     "output_type": "stream",
     "text": [
      "dict_keys(['experimento'])\n",
      "Behavior data cargado desde /home/gianluca/Research/tmt-analysis/data/patients_data_pyxations/sub-0029/ses-experimento/behavioral/29_experimento_condicion_1_2024-03-04_17h33.50.948.csv\n",
      "dict_keys(['experimento'])\n"
     ]
    },
    {
     "name": "stderr",
     "output_type": "stream",
     "text": [
      "WARNING:root:No target was hit in the cursor trail.\n"
     ]
    },
    {
     "name": "stdout",
     "output_type": "stream",
     "text": [
      "Behavior data cargado desde /home/gianluca/Research/tmt-analysis/data/patients_data_pyxations/sub-0030/ses-experimento/behavioral/30_experimento_condicion_1_2024-03-11_14h19.23.797.csv\n",
      "dict_keys(['experimento'])\n",
      "Behavior data cargado desde /home/gianluca/Research/tmt-analysis/data/patients_data_pyxations/sub-0031/ses-experimento/behavioral/31_experimento_condicion_1_2024-03-11_15h15.40.359.csv\n",
      "dict_keys(['experimento'])\n",
      "Behavior data cargado desde /home/gianluca/Research/tmt-analysis/data/patients_data_pyxations/sub-0032/ses-experimento/behavioral/32_experimento_condicion_1_2024-03-11_15h42.16.618.csv\n",
      "dict_keys(['experimento'])\n",
      "Behavior data cargado desde /home/gianluca/Research/tmt-analysis/data/patients_data_pyxations/sub-0033/ses-experimento/behavioral/33_experimento_condicion_1_2024-03-11_16h03.45.994.csv\n",
      "dict_keys(['experimento'])\n"
     ]
    },
    {
     "name": "stderr",
     "output_type": "stream",
     "text": [
      "WARNING:root:No target was hit in the cursor trail.\n"
     ]
    },
    {
     "name": "stdout",
     "output_type": "stream",
     "text": [
      "Behavior data cargado desde /home/gianluca/Research/tmt-analysis/data/patients_data_pyxations/sub-0034/ses-experimento/behavioral/34_experimento_condicion_1_2024-03-18_14h33.09.727.csv\n",
      "dict_keys(['experimento'])\n",
      "Behavior data cargado desde /home/gianluca/Research/tmt-analysis/data/patients_data_pyxations/sub-0035/ses-experimento/behavioral/35_experimento_condicion_1_2024-03-18_15h50.10.815.csv\n"
     ]
    },
    {
     "name": "stderr",
     "output_type": "stream",
     "text": [
      "WARNING:root:No target was hit in the cursor trail.\n"
     ]
    },
    {
     "name": "stdout",
     "output_type": "stream",
     "text": [
      "dict_keys(['experimento'])\n",
      "Behavior data cargado desde /home/gianluca/Research/tmt-analysis/data/patients_data_pyxations/sub-0036/ses-experimento/behavioral/36_experimento_condicion_1_2024-03-25_14h40.54.856.csv\n",
      "dict_keys(['experimento'])\n"
     ]
    },
    {
     "name": "stderr",
     "output_type": "stream",
     "text": [
      "WARNING:root:No target was hit in the cursor trail.\n"
     ]
    },
    {
     "name": "stdout",
     "output_type": "stream",
     "text": [
      "Behavior data cargado desde /home/gianluca/Research/tmt-analysis/data/patients_data_pyxations/sub-0037/ses-experimento/behavioral/37_experimento_condicion_1_2024-03-25_15h38.17.090.csv\n",
      "dict_keys(['experimento'])\n",
      "Behavior data cargado desde /home/gianluca/Research/tmt-analysis/data/patients_data_pyxations/sub-0038/ses-experimento/behavioral/38_experimento_condicion_1_2024-03-25_15h58.46.351.csv\n",
      "dict_keys(['experimento'])\n",
      "Behavior data cargado desde /home/gianluca/Research/tmt-analysis/data/patients_data_pyxations/sub-0039/ses-experimento/behavioral/39_experimento_condicion_1_2024-03-25_17h26.34.315.csv\n",
      "dict_keys(['experimento'])\n",
      "Behavior data cargado desde /home/gianluca/Research/tmt-analysis/data/patients_data_pyxations/sub-0040/ses-experimento/behavioral/40_experimento_condicion_1_2024-04-08_14h31.35.895.csv\n",
      "dict_keys(['experimento'])\n"
     ]
    },
    {
     "name": "stderr",
     "output_type": "stream",
     "text": [
      "WARNING:root:No target was hit in the cursor trail.\n"
     ]
    },
    {
     "name": "stdout",
     "output_type": "stream",
     "text": [
      "Behavior data cargado desde /home/gianluca/Research/tmt-analysis/data/patients_data_pyxations/sub-0041/ses-experimento/behavioral/41_experimento_condicion_1_2024-04-08_15h09.31.440.csv\n",
      "dict_keys(['experimento'])\n",
      "Behavior data cargado desde /home/gianluca/Research/tmt-analysis/data/patients_data_pyxations/sub-0042/ses-experimento/behavioral/42_experimento_condicion_1_2024-04-08_15h53.06.575.csv\n",
      "dict_keys(['experimento'])\n",
      "Behavior data cargado desde /home/gianluca/Research/tmt-analysis/data/patients_data_pyxations/sub-0043/ses-experimento/behavioral/43_experimento_condicion_1_2024-04-08_17h14.02.912.csv\n",
      "dict_keys(['experimento'])\n",
      "Behavior data cargado desde /home/gianluca/Research/tmt-analysis/data/patients_data_pyxations/sub-0044/ses-experimento/behavioral/44_experimento_condicion_1_2024-04-15_14h41.20.685.csv\n",
      "dict_keys(['experimento'])\n",
      "Behavior data cargado desde /home/gianluca/Research/tmt-analysis/data/patients_data_pyxations/sub-0045/ses-experimento/behavioral/45_experimento_condicion_1_2024-04-15_15h23.59.285.csv\n",
      "dict_keys(['experimento'])\n",
      "Behavior data cargado desde /home/gianluca/Research/tmt-analysis/data/patients_data_pyxations/sub-0046/ses-experimento/behavioral/46_experimento_condicion_1_2024-04-15_16h27.11.965.csv\n",
      "dict_keys(['experimento'])\n",
      "Behavior data cargado desde /home/gianluca/Research/tmt-analysis/data/patients_data_pyxations/sub-0047/ses-experimento/behavioral/47_experimento_condicion_1_2024-04-15_16h49.33.934.csv\n",
      "dict_keys(['experimento'])\n",
      "Behavior data cargado desde /home/gianluca/Research/tmt-analysis/data/patients_data_pyxations/sub-0048/ses-experimento/behavioral/48_experimento_condicion_1_2024-04-22_13h47.33.056.csv\n",
      "dict_keys(['experimento'])\n"
     ]
    },
    {
     "name": "stderr",
     "output_type": "stream",
     "text": [
      "WARNING:root:No target was hit in the cursor trail.\n",
      "WARNING:root:No target was hit in the cursor trail.\n",
      "WARNING:root:No target was hit in the cursor trail.\n",
      "WARNING:root:No target was hit in the cursor trail.\n",
      "WARNING:root:No target was hit in the cursor trail.\n"
     ]
    },
    {
     "name": "stdout",
     "output_type": "stream",
     "text": [
      "Behavior data cargado desde /home/gianluca/Research/tmt-analysis/data/patients_data_pyxations/sub-0049/ses-experimento/behavioral/49_experimento_condicion_1_2024-04-22_14h12.30.398.csv\n",
      "dict_keys(['experimento'])\n",
      "Behavior data cargado desde /home/gianluca/Research/tmt-analysis/data/patients_data_pyxations/sub-0050/ses-experimento/behavioral/50_experimento_condicion_1_2024-04-22_15h03.11.193.csv\n",
      "dict_keys(['experimento'])\n",
      "Behavior data cargado desde /home/gianluca/Research/tmt-analysis/data/patients_data_pyxations/sub-0051/ses-experimento/behavioral/51_experimento_condicion_1_2024-04-22_15h29.19.598.csv\n",
      "dict_keys(['experimento'])\n",
      "Behavior data cargado desde /home/gianluca/Research/tmt-analysis/data/patients_data_pyxations/sub-0052/ses-experimento/behavioral/52_experimento_condicion_1_2024-04-22_15h47.49.640.csv\n",
      "dict_keys(['experimento'])\n"
     ]
    },
    {
     "name": "stderr",
     "output_type": "stream",
     "text": [
      "WARNING:root:No target was hit in the cursor trail.\n",
      "WARNING:root:No target was hit in the cursor trail.\n",
      "WARNING:root:No target was hit in the cursor trail.\n"
     ]
    },
    {
     "name": "stdout",
     "output_type": "stream",
     "text": [
      "Behavior data cargado desde /home/gianluca/Research/tmt-analysis/data/patients_data_pyxations/sub-0053/ses-experimento/behavioral/53_experimento_condicion_1_2024-04-25_10h03.07.725.csv\n",
      "dict_keys(['experimento'])\n",
      "Behavior data cargado desde /home/gianluca/Research/tmt-analysis/data/patients_data_pyxations/sub-0054/ses-experimento/behavioral/54_experimento_condicion_1_2024-04-25_10h48.25.478.csv\n",
      "dict_keys(['experimento'])\n",
      "Behavior data cargado desde /home/gianluca/Research/tmt-analysis/data/patients_data_pyxations/sub-0055/ses-experimento/behavioral/55_experimento_condicion_1_2024-01-22_14h54.07.800.csv\n",
      "dict_keys(['experimento'])\n",
      "Behavior data cargado desde /home/gianluca/Research/tmt-analysis/data/patients_data_pyxations/sub-0056/ses-experimento/behavioral/56_experimento_condicion_1_2024-05-06_14h14.11.111.csv\n",
      "dict_keys(['experimento'])\n",
      "Behavior data cargado desde /home/gianluca/Research/tmt-analysis/data/patients_data_pyxations/sub-0057/ses-experimento/behavioral/57_experimento_condicion_1_2024-05-06_14h45.17.988.csv\n",
      "dict_keys(['experimento'])\n",
      "Behavior data cargado desde /home/gianluca/Research/tmt-analysis/data/patients_data_pyxations/sub-0058/ses-experimento/behavioral/58_experimento_condicion_1_2024-05-06_15h12.33.765.csv\n",
      "dict_keys(['experimento'])\n"
     ]
    },
    {
     "name": "stderr",
     "output_type": "stream",
     "text": [
      "WARNING:root:No target was hit in the cursor trail.\n"
     ]
    },
    {
     "name": "stdout",
     "output_type": "stream",
     "text": [
      "Behavior data cargado desde /home/gianluca/Research/tmt-analysis/data/patients_data_pyxations/sub-0059/ses-experimento/behavioral/59_experimento_condicion_1_2024-05-06_15h34.31.682.csv\n",
      "dict_keys(['experimento'])\n",
      "Behavior data cargado desde /home/gianluca/Research/tmt-analysis/data/patients_data_pyxations/sub-0060/ses-experimento/behavioral/60_experimento_condicion_1_2024-05-06_15h57.27.169.csv\n",
      "dict_keys(['experimento'])\n",
      "Behavior data cargado desde /home/gianluca/Research/tmt-analysis/data/patients_data_pyxations/sub-0061/ses-experimento/behavioral/61_experimento_condicion_1_2024-05-13_14h55.14.217.csv\n",
      "dict_keys(['experimento'])\n",
      "Behavior data cargado desde /home/gianluca/Research/tmt-analysis/data/patients_data_pyxations/sub-0062/ses-experimento/behavioral/62_experimento_condicion_1_2024-05-13_16h29.06.347.csv\n",
      "dict_keys(['experimento'])\n"
     ]
    },
    {
     "name": "stderr",
     "output_type": "stream",
     "text": [
      "WARNING:root:No target was hit in the cursor trail.\n",
      "WARNING:root:No target was hit in the cursor trail.\n",
      "WARNING:root:No target was hit in the cursor trail.\n",
      "WARNING:root:No target was hit in the cursor trail.\n"
     ]
    },
    {
     "name": "stdout",
     "output_type": "stream",
     "text": [
      "Behavior data cargado desde /home/gianluca/Research/tmt-analysis/data/patients_data_pyxations/sub-0063/ses-experimento/behavioral/63_experimento_condicion_1_2024-05-13_16h50.24.754.csv\n",
      "dict_keys(['experimento'])\n",
      "Behavior data cargado desde /home/gianluca/Research/tmt-analysis/data/patients_data_pyxations/sub-0064/ses-experimento/behavioral/64_experimento_condicion_1_2024-05-20_12h53.05.646.csv\n",
      "dict_keys(['experimento'])\n"
     ]
    },
    {
     "name": "stderr",
     "output_type": "stream",
     "text": [
      "WARNING:root:No target was hit in the cursor trail.\n",
      "WARNING:root:No target was hit in the cursor trail.\n",
      "WARNING:root:No target was hit in the cursor trail.\n",
      "WARNING:root:No target was hit in the cursor trail.\n",
      "WARNING:root:No target was hit in the cursor trail.\n",
      "WARNING:root:No target was hit in the cursor trail.\n",
      "WARNING:root:No target was hit in the cursor trail.\n",
      "WARNING:root:No target was hit in the cursor trail.\n"
     ]
    },
    {
     "name": "stdout",
     "output_type": "stream",
     "text": [
      "Behavior data cargado desde /home/gianluca/Research/tmt-analysis/data/patients_data_pyxations/sub-0065/ses-experimento/behavioral/65_experimento_condicion_1_2024-05-20_13h13.07.071.csv\n",
      "dict_keys(['experimento'])\n",
      "Behavior data cargado desde /home/gianluca/Research/tmt-analysis/data/patients_data_pyxations/sub-0066/ses-experimento/behavioral/66_experimento_condicion_1_2024-05-20_13h58.08.534.csv\n",
      "dict_keys(['experimento'])\n"
     ]
    },
    {
     "name": "stderr",
     "output_type": "stream",
     "text": [
      "WARNING:root:No target was hit in the cursor trail.\n",
      "WARNING:root:No target was hit in the cursor trail.\n",
      "WARNING:root:No target was hit in the cursor trail.\n",
      "WARNING:root:No target was hit in the cursor trail.\n",
      "WARNING:root:No target was hit in the cursor trail.\n",
      "WARNING:root:No target was hit in the cursor trail.\n",
      "WARNING:root:No target was hit in the cursor trail.\n",
      "WARNING:root:No target was hit in the cursor trail.\n"
     ]
    },
    {
     "name": "stdout",
     "output_type": "stream",
     "text": [
      "Behavior data cargado desde /home/gianluca/Research/tmt-analysis/data/patients_data_pyxations/sub-0067/ses-experimento/behavioral/67_experimento_condicion_1_2024-05-20_14h36.56.039.csv\n",
      "dict_keys(['experimento'])\n",
      "Behavior data cargado desde /home/gianluca/Research/tmt-analysis/data/patients_data_pyxations/sub-0068/ses-experimento/behavioral/68_experimento_condicion_1_2024-05-20_15h04.00.934.csv\n",
      "dict_keys(['experimento'])\n",
      "Behavior data cargado desde /home/gianluca/Research/tmt-analysis/data/patients_data_pyxations/sub-0069/ses-experimento/behavioral/69_experimento_condicion_1_2024-05-20_15h29.33.734.csv\n",
      "dict_keys(['experimento'])\n",
      "Behavior data cargado desde /home/gianluca/Research/tmt-analysis/data/patients_data_pyxations/sub-0070/ses-experimento/behavioral/70_experimento_condicion_1_2024-05-27_14h57.05.517.csv\n",
      "dict_keys(['experimento'])\n",
      "Behavior data cargado desde /home/gianluca/Research/tmt-analysis/data/patients_data_pyxations/sub-0071/ses-experimento/behavioral/71_experimento_condicion_1_2024-01-22_14h54.07.800.csv\n",
      "dict_keys(['experimento'])\n"
     ]
    },
    {
     "name": "stderr",
     "output_type": "stream",
     "text": [
      "WARNING:root:No target was hit in the cursor trail.\n",
      "WARNING:root:No target was hit in the cursor trail.\n",
      "WARNING:root:No target was hit in the cursor trail.\n",
      "WARNING:root:No target was hit in the cursor trail.\n",
      "WARNING:root:No target was hit in the cursor trail.\n",
      "WARNING:root:No target was hit in the cursor trail.\n",
      "WARNING:root:No target was hit in the cursor trail.\n"
     ]
    },
    {
     "name": "stdout",
     "output_type": "stream",
     "text": [
      "Behavior data cargado desde /home/gianluca/Research/tmt-analysis/data/patients_data_pyxations/sub-0072/ses-experimento/behavioral/72_experimento_condicion_1_2024-06-03_13h28.59.526.csv\n",
      "dict_keys(['experimento'])\n",
      "Behavior data cargado desde /home/gianluca/Research/tmt-analysis/data/patients_data_pyxations/sub-0073/ses-experimento/behavioral/73_experimento_condicion_1_2024-06-03_15h11.23.060.csv\n",
      "dict_keys(['experimento'])\n"
     ]
    },
    {
     "name": "stderr",
     "output_type": "stream",
     "text": [
      "WARNING:root:No target was hit in the cursor trail.\n"
     ]
    },
    {
     "name": "stdout",
     "output_type": "stream",
     "text": [
      "Behavior data cargado desde /home/gianluca/Research/tmt-analysis/data/patients_data_pyxations/sub-0074/ses-experimento/behavioral/74_experimento_condicion_1_2024-06-03_15h42.28.902.csv\n",
      "dict_keys(['experimento'])\n",
      "Behavior data cargado desde /home/gianluca/Research/tmt-analysis/data/patients_data_pyxations/sub-0075/ses-experimento/behavioral/75_experimento_condicion_1_2024-06-10_14h07.33.027.csv\n",
      "dict_keys(['experimento'])\n",
      "Behavior data cargado desde /home/gianluca/Research/tmt-analysis/data/patients_data_pyxations/sub-0076/ses-experimento/behavioral/76_experimento_condicion_1_2024-06-10_15h22.51.927.csv\n",
      "dict_keys(['experimento'])\n",
      "Behavior data cargado desde /home/gianluca/Research/tmt-analysis/data/patients_data_pyxations/sub-0077/ses-experimento/behavioral/77_experimento_condicion_1_2024-06-10_16h08.49.801.csv\n",
      "dict_keys(['experimento'])\n",
      "Behavior data cargado desde /home/gianluca/Research/tmt-analysis/data/patients_data_pyxations/sub-0078/ses-experimento/behavioral/78_experimento_condicion_1_2024-06-24_15h09.16.269.csv\n",
      "dict_keys(['experimento'])\n",
      "Behavior data cargado desde /home/gianluca/Research/tmt-analysis/data/patients_data_pyxations/sub-0079/ses-experimento/behavioral/79_experimento_condicion_1_2024-06-24_15h31.40.395.csv\n",
      "dict_keys(['experimento'])\n"
     ]
    },
    {
     "name": "stderr",
     "output_type": "stream",
     "text": [
      "WARNING:root:No target was hit in the cursor trail.\n",
      "WARNING:root:No target was hit in the cursor trail.\n",
      "WARNING:root:No target was hit in the cursor trail.\n",
      "WARNING:root:No target was hit in the cursor trail.\n",
      "WARNING:root:No target was hit in the cursor trail.\n"
     ]
    },
    {
     "name": "stdout",
     "output_type": "stream",
     "text": [
      "Behavior data cargado desde /home/gianluca/Research/tmt-analysis/data/patients_data_pyxations/sub-0080/ses-experimento/behavioral/80_experimento_condicion_1_2024-06-24_15h56.26.767.csv\n",
      "dict_keys(['experimento'])\n",
      "Behavior data cargado desde /home/gianluca/Research/tmt-analysis/data/patients_data_pyxations/sub-0081/ses-experimento/behavioral/81_experimento_condicion_1_2024-07-01_13h55.26.439.csv\n",
      "dict_keys(['experimento'])\n",
      "Behavior data cargado desde /home/gianluca/Research/tmt-analysis/data/patients_data_pyxations/sub-0082/ses-experimento/behavioral/82_experimento_condicion_1_2024-07-01_14h28.38.598.csv\n",
      "dict_keys(['experimento'])\n",
      "Behavior data cargado desde /home/gianluca/Research/tmt-analysis/data/patients_data_pyxations/sub-0083/ses-experimento/behavioral/83_experimento_condicion_1_2024-07-01_15h00.53.925.csv\n",
      "dict_keys(['experimento'])\n"
     ]
    },
    {
     "name": "stderr",
     "output_type": "stream",
     "text": [
      "WARNING:root:No target was hit in the cursor trail.\n",
      "WARNING:root:No target was hit in the cursor trail.\n",
      "WARNING:root:No target was hit in the cursor trail.\n",
      "WARNING:root:No target was hit in the cursor trail.\n",
      "WARNING:root:No target was hit in the cursor trail.\n",
      "WARNING:root:No target was hit in the cursor trail.\n",
      "WARNING:root:No target was hit in the cursor trail.\n",
      "WARNING:root:No target was hit in the cursor trail.\n"
     ]
    },
    {
     "name": "stdout",
     "output_type": "stream",
     "text": [
      "Behavior data cargado desde /home/gianluca/Research/tmt-analysis/data/patients_data_pyxations/sub-0084/ses-experimento/behavioral/84_experimento_condicion_1_2024-07-01_15h22.49.325.csv\n",
      "dict_keys(['experimento'])\n",
      "Behavior data cargado desde /home/gianluca/Research/tmt-analysis/data/patients_data_pyxations/sub-0085/ses-experimento/behavioral/85_experimento_condicion_1_2024-07-01_15h45.42.745.csv\n",
      "dict_keys(['experimento'])\n",
      "Behavior data cargado desde /home/gianluca/Research/tmt-analysis/data/patients_data_pyxations/sub-0086/ses-experimento/behavioral/86_experimento_condicion_1_2024-07-01_16h08.28.255.csv\n",
      "dict_keys(['experimento'])\n",
      "Behavior data cargado desde /home/gianluca/Research/tmt-analysis/data/patients_data_pyxations/sub-0087/ses-experimento/behavioral/87_experimento_condicion_1_2024-07-08_10h24.16.939.csv\n",
      "dict_keys(['experimento'])\n",
      "Behavior data cargado desde /home/gianluca/Research/tmt-analysis/data/patients_data_pyxations/sub-0088/ses-experimento/behavioral/88_experimento_condicion_1_2024-07-08_11h15.37.058.csv\n",
      "dict_keys(['experimento'])\n"
     ]
    },
    {
     "name": "stderr",
     "output_type": "stream",
     "text": [
      "WARNING:root:No target was hit in the cursor trail.\n"
     ]
    },
    {
     "name": "stdout",
     "output_type": "stream",
     "text": [
      "Behavior data cargado desde /home/gianluca/Research/tmt-analysis/data/patients_data_pyxations/sub-0089/ses-experimento/behavioral/89_experimento_condicion_1_2024-07-08_12h18.44.729.csv\n",
      "dict_keys(['experimento'])\n",
      "Behavior data cargado desde /home/gianluca/Research/tmt-analysis/data/patients_data_pyxations/sub-0090/ses-experimento/behavioral/90_experimento_condicion_1_2024-07-15_13h33.25.701.csv\n",
      "dict_keys(['experimento'])\n",
      "Behavior data cargado desde /home/gianluca/Research/tmt-analysis/data/patients_data_pyxations/sub-0091/ses-experimento/behavioral/91_experimento_condicion_1_2024-07-15_15h25.13.665.csv\n",
      "dict_keys(['experimento'])\n"
     ]
    },
    {
     "name": "stderr",
     "output_type": "stream",
     "text": [
      "WARNING:root:No target was hit in the cursor trail.\n",
      "WARNING:root:No target was hit in the cursor trail.\n",
      "WARNING:root:No target was hit in the cursor trail.\n",
      "WARNING:root:No target was hit in the cursor trail.\n"
     ]
    },
    {
     "name": "stdout",
     "output_type": "stream",
     "text": [
      "Behavior data cargado desde /home/gianluca/Research/tmt-analysis/data/patients_data_pyxations/sub-0092/ses-experimento/behavioral/92_experimento_condicion_1_2024-08-05_14h02.54.146.csv\n",
      "dict_keys(['experimento'])\n",
      "Behavior data cargado desde /home/gianluca/Research/tmt-analysis/data/patients_data_pyxations/sub-0093/ses-experimento/behavioral/93_experimento_condicion_1_2024-08-12_13h06.19.875.csv\n",
      "dict_keys(['experimento'])\n"
     ]
    },
    {
     "name": "stderr",
     "output_type": "stream",
     "text": [
      "WARNING:root:No target was hit in the cursor trail.\n"
     ]
    },
    {
     "name": "stdout",
     "output_type": "stream",
     "text": [
      "Behavior data cargado desde /home/gianluca/Research/tmt-analysis/data/patients_data_pyxations/sub-0094/ses-experimento/behavioral/94_experimento_condicion_1_2024-09-02_13h23.31.843.csv\n",
      "dict_keys(['experimento'])\n",
      "Behavior data cargado desde /home/gianluca/Research/tmt-analysis/data/patients_data_pyxations/sub-0095/ses-experimento/behavioral/95_experimento_condicion_1_2024-09-16_13h57.24.180.csv\n",
      "dict_keys(['experimento'])\n"
     ]
    },
    {
     "name": "stderr",
     "output_type": "stream",
     "text": [
      "WARNING:root:No target was hit in the cursor trail.\n"
     ]
    },
    {
     "name": "stdout",
     "output_type": "stream",
     "text": [
      "Behavior data cargado desde /home/gianluca/Research/tmt-analysis/data/patients_data_pyxations/sub-0096/ses-experimento/behavioral/96_experimento_condicion_1_2024-10-07_13h22.23.476.csv\n",
      "dict_keys(['experimento'])\n",
      "Behavior data cargado desde /home/gianluca/Research/tmt-analysis/data/patients_data_pyxations/sub-0097/ses-experimento/behavioral/97_experimento_condicion_1_2024-10-07_13h49.04.007.csv\n",
      "dict_keys(['experimento'])\n"
     ]
    },
    {
     "name": "stderr",
     "output_type": "stream",
     "text": [
      "WARNING:root:No target was hit in the cursor trail.\n"
     ]
    },
    {
     "name": "stdout",
     "output_type": "stream",
     "text": [
      "Behavior data cargado desde /home/gianluca/Research/tmt-analysis/data/patients_data_pyxations/sub-0098/ses-experimento/behavioral/98_experimento_condicion_1_2024-10-21_13h16.08.457.csv\n",
      "dict_keys(['experimento'])\n",
      "Behavior data cargado desde /home/gianluca/Research/tmt-analysis/data/patients_data_pyxations/sub-0099/ses-experimento/behavioral/99_experimento_condicion_1_2024-10-21_13h33.48.778.csv\n",
      "dict_keys(['experimento'])\n"
     ]
    },
    {
     "name": "stderr",
     "output_type": "stream",
     "text": [
      "WARNING:root:No target was hit in the cursor trail.\n",
      "WARNING:root:No target was hit in the cursor trail.\n",
      "WARNING:root:No target was hit in the cursor trail.\n"
     ]
    },
    {
     "name": "stdout",
     "output_type": "stream",
     "text": [
      "Behavior data cargado desde /home/gianluca/Research/tmt-analysis/data/patients_data_pyxations/sub-0100/ses-experimento/behavioral/100_experimento_condicion_1_2024-11-11_13h27.44.759.csv\n",
      "dict_keys(['experimento'])\n",
      "Behavior data cargado desde /home/gianluca/Research/tmt-analysis/data/patients_data_pyxations/sub-0101/ses-experimento/behavioral/101_experimento_condicion_1_2024-11-11_13h50.42.364.csv\n"
     ]
    }
   ],
   "execution_count": 1
  },
  {
   "metadata": {},
   "cell_type": "markdown",
   "source": "# Find valid combination of subject and trial",
   "id": "3be7b2e073fd44e4"
  },
  {
   "metadata": {
    "ExecuteTime": {
     "end_time": "2025-09-25T19:21:27.067331Z",
     "start_time": "2025-09-25T19:21:27.014878Z"
    }
   },
   "cell_type": "code",
   "source": [
    "from src.hand_analysis.loader.load_last_split import load_last_analysis\n",
    "train_set, _ = load_last_analysis()\n",
    "subject_analysis = train_set[train_set['is_valid'] == True].copy()\n",
    "subject_analysis"
   ],
   "id": "f807094fc256584c",
   "outputs": [
    {
     "data": {
      "text/plain": [
       "      subject_id  trial_id trial_type  is_valid  trial_order_of_appearance  \\\n",
       "0              1         8     PART_A      True                          2   \n",
       "1              1         7     PART_B      True                          3   \n",
       "2              1        11     PART_A      True                          4   \n",
       "3              1        21     PART_B      True                          5   \n",
       "4              1         1     PART_A      True                          6   \n",
       "...          ...       ...        ...       ...                        ...   \n",
       "1834         101         5     PART_A      True                         16   \n",
       "1835         101         0     PART_B      True                         17   \n",
       "1837         101         3     PART_B      True                         19   \n",
       "1838         101         8     PART_A      True                         20   \n",
       "1839         101         4     PART_B      True                         21   \n",
       "\n",
       "      speed_threshold  non_cut_zigzag_amplitude  non_cut_total_distance  \\\n",
       "0            0.249557                       NaN                3.724429   \n",
       "1            0.249557                 -1.172266                3.451943   \n",
       "2            0.249557                       NaN                3.498912   \n",
       "3            0.249557                 -1.611113                3.330454   \n",
       "4            0.249557                       NaN                3.852083   \n",
       "...               ...                       ...                     ...   \n",
       "1834         0.134722                       NaN                4.037681   \n",
       "1835         0.134722                 -1.405589                3.589938   \n",
       "1837         0.134722                 -1.055559                3.633550   \n",
       "1838         0.134722                       NaN                4.004380   \n",
       "1839         0.134722                 -2.775021                3.991007   \n",
       "\n",
       "      non_cut_rt  non_cut_mean_speed  ...  tmt b papel errores  tmt_b_z  \\\n",
       "0        18105.0            0.234523  ...                  NaN     1.36   \n",
       "1        18091.0            0.207785  ...                  NaN     1.36   \n",
       "2        15807.0            0.246446  ...                  NaN     1.36   \n",
       "3        21544.0            0.182652  ...                  NaN     1.36   \n",
       "4        18099.0            0.241062  ...                  NaN     1.36   \n",
       "...          ...                 ...  ...                  ...      ...   \n",
       "1834     21935.0            0.210740  ...                  NaN     0.57   \n",
       "1835     18984.0            0.210349  ...                  NaN     0.57   \n",
       "1837     18612.0            0.235367  ...                  NaN     0.57   \n",
       "1838     16072.0            0.276684  ...                  NaN     0.57   \n",
       "1839     25002.0            0.174511  ...                  NaN     0.57   \n",
       "\n",
       "      digit_symbol_raw  digit_symbol_z  forward_digit_span_raw  \\\n",
       "0                 63.0            0.00                     6.0   \n",
       "1                 63.0            0.00                     6.0   \n",
       "2                 63.0            0.00                     6.0   \n",
       "3                 63.0            0.00                     6.0   \n",
       "4                 63.0            0.00                     6.0   \n",
       "...                ...             ...                     ...   \n",
       "1834              36.0            0.67                     5.0   \n",
       "1835              36.0            0.67                     5.0   \n",
       "1837              36.0            0.67                     5.0   \n",
       "1838              36.0            0.67                     5.0   \n",
       "1839              36.0            0.67                     5.0   \n",
       "\n",
       "      forward_digit_span_z  backward_digit_span_raw  backward_digit_span_z  \\\n",
       "0                    -0.17                      4.0                  -0.60   \n",
       "1                    -0.17                      4.0                  -0.60   \n",
       "2                    -0.17                      4.0                  -0.60   \n",
       "3                    -0.17                      4.0                  -0.60   \n",
       "4                    -0.17                      4.0                  -0.60   \n",
       "...                    ...                      ...                    ...   \n",
       "1834                 -0.82                      3.0                  -1.21   \n",
       "1835                 -0.82                      3.0                  -1.21   \n",
       "1837                 -0.82                      3.0                  -1.21   \n",
       "1838                 -0.82                      3.0                  -1.21   \n",
       "1839                 -0.82                      3.0                  -1.21   \n",
       "\n",
       "      clock_drawing_test  years_of_education  \n",
       "0                    2.0                18.0  \n",
       "1                    2.0                18.0  \n",
       "2                    2.0                18.0  \n",
       "3                    2.0                18.0  \n",
       "4                    2.0                18.0  \n",
       "...                  ...                 ...  \n",
       "1834                 3.0                18.0  \n",
       "1835                 3.0                18.0  \n",
       "1837                 3.0                18.0  \n",
       "1838                 3.0                18.0  \n",
       "1839                 3.0                18.0  \n",
       "\n",
       "[1022 rows x 108 columns]"
      ],
      "text/html": [
       "<div>\n",
       "<style scoped>\n",
       "    .dataframe tbody tr th:only-of-type {\n",
       "        vertical-align: middle;\n",
       "    }\n",
       "\n",
       "    .dataframe tbody tr th {\n",
       "        vertical-align: top;\n",
       "    }\n",
       "\n",
       "    .dataframe thead th {\n",
       "        text-align: right;\n",
       "    }\n",
       "</style>\n",
       "<table border=\"1\" class=\"dataframe\">\n",
       "  <thead>\n",
       "    <tr style=\"text-align: right;\">\n",
       "      <th></th>\n",
       "      <th>subject_id</th>\n",
       "      <th>trial_id</th>\n",
       "      <th>trial_type</th>\n",
       "      <th>is_valid</th>\n",
       "      <th>trial_order_of_appearance</th>\n",
       "      <th>speed_threshold</th>\n",
       "      <th>non_cut_zigzag_amplitude</th>\n",
       "      <th>non_cut_total_distance</th>\n",
       "      <th>non_cut_rt</th>\n",
       "      <th>non_cut_mean_speed</th>\n",
       "      <th>...</th>\n",
       "      <th>tmt b papel errores</th>\n",
       "      <th>tmt_b_z</th>\n",
       "      <th>digit_symbol_raw</th>\n",
       "      <th>digit_symbol_z</th>\n",
       "      <th>forward_digit_span_raw</th>\n",
       "      <th>forward_digit_span_z</th>\n",
       "      <th>backward_digit_span_raw</th>\n",
       "      <th>backward_digit_span_z</th>\n",
       "      <th>clock_drawing_test</th>\n",
       "      <th>years_of_education</th>\n",
       "    </tr>\n",
       "  </thead>\n",
       "  <tbody>\n",
       "    <tr>\n",
       "      <th>0</th>\n",
       "      <td>1</td>\n",
       "      <td>8</td>\n",
       "      <td>PART_A</td>\n",
       "      <td>True</td>\n",
       "      <td>2</td>\n",
       "      <td>0.249557</td>\n",
       "      <td>NaN</td>\n",
       "      <td>3.724429</td>\n",
       "      <td>18105.0</td>\n",
       "      <td>0.234523</td>\n",
       "      <td>...</td>\n",
       "      <td>NaN</td>\n",
       "      <td>1.36</td>\n",
       "      <td>63.0</td>\n",
       "      <td>0.00</td>\n",
       "      <td>6.0</td>\n",
       "      <td>-0.17</td>\n",
       "      <td>4.0</td>\n",
       "      <td>-0.60</td>\n",
       "      <td>2.0</td>\n",
       "      <td>18.0</td>\n",
       "    </tr>\n",
       "    <tr>\n",
       "      <th>1</th>\n",
       "      <td>1</td>\n",
       "      <td>7</td>\n",
       "      <td>PART_B</td>\n",
       "      <td>True</td>\n",
       "      <td>3</td>\n",
       "      <td>0.249557</td>\n",
       "      <td>-1.172266</td>\n",
       "      <td>3.451943</td>\n",
       "      <td>18091.0</td>\n",
       "      <td>0.207785</td>\n",
       "      <td>...</td>\n",
       "      <td>NaN</td>\n",
       "      <td>1.36</td>\n",
       "      <td>63.0</td>\n",
       "      <td>0.00</td>\n",
       "      <td>6.0</td>\n",
       "      <td>-0.17</td>\n",
       "      <td>4.0</td>\n",
       "      <td>-0.60</td>\n",
       "      <td>2.0</td>\n",
       "      <td>18.0</td>\n",
       "    </tr>\n",
       "    <tr>\n",
       "      <th>2</th>\n",
       "      <td>1</td>\n",
       "      <td>11</td>\n",
       "      <td>PART_A</td>\n",
       "      <td>True</td>\n",
       "      <td>4</td>\n",
       "      <td>0.249557</td>\n",
       "      <td>NaN</td>\n",
       "      <td>3.498912</td>\n",
       "      <td>15807.0</td>\n",
       "      <td>0.246446</td>\n",
       "      <td>...</td>\n",
       "      <td>NaN</td>\n",
       "      <td>1.36</td>\n",
       "      <td>63.0</td>\n",
       "      <td>0.00</td>\n",
       "      <td>6.0</td>\n",
       "      <td>-0.17</td>\n",
       "      <td>4.0</td>\n",
       "      <td>-0.60</td>\n",
       "      <td>2.0</td>\n",
       "      <td>18.0</td>\n",
       "    </tr>\n",
       "    <tr>\n",
       "      <th>3</th>\n",
       "      <td>1</td>\n",
       "      <td>21</td>\n",
       "      <td>PART_B</td>\n",
       "      <td>True</td>\n",
       "      <td>5</td>\n",
       "      <td>0.249557</td>\n",
       "      <td>-1.611113</td>\n",
       "      <td>3.330454</td>\n",
       "      <td>21544.0</td>\n",
       "      <td>0.182652</td>\n",
       "      <td>...</td>\n",
       "      <td>NaN</td>\n",
       "      <td>1.36</td>\n",
       "      <td>63.0</td>\n",
       "      <td>0.00</td>\n",
       "      <td>6.0</td>\n",
       "      <td>-0.17</td>\n",
       "      <td>4.0</td>\n",
       "      <td>-0.60</td>\n",
       "      <td>2.0</td>\n",
       "      <td>18.0</td>\n",
       "    </tr>\n",
       "    <tr>\n",
       "      <th>4</th>\n",
       "      <td>1</td>\n",
       "      <td>1</td>\n",
       "      <td>PART_A</td>\n",
       "      <td>True</td>\n",
       "      <td>6</td>\n",
       "      <td>0.249557</td>\n",
       "      <td>NaN</td>\n",
       "      <td>3.852083</td>\n",
       "      <td>18099.0</td>\n",
       "      <td>0.241062</td>\n",
       "      <td>...</td>\n",
       "      <td>NaN</td>\n",
       "      <td>1.36</td>\n",
       "      <td>63.0</td>\n",
       "      <td>0.00</td>\n",
       "      <td>6.0</td>\n",
       "      <td>-0.17</td>\n",
       "      <td>4.0</td>\n",
       "      <td>-0.60</td>\n",
       "      <td>2.0</td>\n",
       "      <td>18.0</td>\n",
       "    </tr>\n",
       "    <tr>\n",
       "      <th>...</th>\n",
       "      <td>...</td>\n",
       "      <td>...</td>\n",
       "      <td>...</td>\n",
       "      <td>...</td>\n",
       "      <td>...</td>\n",
       "      <td>...</td>\n",
       "      <td>...</td>\n",
       "      <td>...</td>\n",
       "      <td>...</td>\n",
       "      <td>...</td>\n",
       "      <td>...</td>\n",
       "      <td>...</td>\n",
       "      <td>...</td>\n",
       "      <td>...</td>\n",
       "      <td>...</td>\n",
       "      <td>...</td>\n",
       "      <td>...</td>\n",
       "      <td>...</td>\n",
       "      <td>...</td>\n",
       "      <td>...</td>\n",
       "      <td>...</td>\n",
       "    </tr>\n",
       "    <tr>\n",
       "      <th>1834</th>\n",
       "      <td>101</td>\n",
       "      <td>5</td>\n",
       "      <td>PART_A</td>\n",
       "      <td>True</td>\n",
       "      <td>16</td>\n",
       "      <td>0.134722</td>\n",
       "      <td>NaN</td>\n",
       "      <td>4.037681</td>\n",
       "      <td>21935.0</td>\n",
       "      <td>0.210740</td>\n",
       "      <td>...</td>\n",
       "      <td>NaN</td>\n",
       "      <td>0.57</td>\n",
       "      <td>36.0</td>\n",
       "      <td>0.67</td>\n",
       "      <td>5.0</td>\n",
       "      <td>-0.82</td>\n",
       "      <td>3.0</td>\n",
       "      <td>-1.21</td>\n",
       "      <td>3.0</td>\n",
       "      <td>18.0</td>\n",
       "    </tr>\n",
       "    <tr>\n",
       "      <th>1835</th>\n",
       "      <td>101</td>\n",
       "      <td>0</td>\n",
       "      <td>PART_B</td>\n",
       "      <td>True</td>\n",
       "      <td>17</td>\n",
       "      <td>0.134722</td>\n",
       "      <td>-1.405589</td>\n",
       "      <td>3.589938</td>\n",
       "      <td>18984.0</td>\n",
       "      <td>0.210349</td>\n",
       "      <td>...</td>\n",
       "      <td>NaN</td>\n",
       "      <td>0.57</td>\n",
       "      <td>36.0</td>\n",
       "      <td>0.67</td>\n",
       "      <td>5.0</td>\n",
       "      <td>-0.82</td>\n",
       "      <td>3.0</td>\n",
       "      <td>-1.21</td>\n",
       "      <td>3.0</td>\n",
       "      <td>18.0</td>\n",
       "    </tr>\n",
       "    <tr>\n",
       "      <th>1837</th>\n",
       "      <td>101</td>\n",
       "      <td>3</td>\n",
       "      <td>PART_B</td>\n",
       "      <td>True</td>\n",
       "      <td>19</td>\n",
       "      <td>0.134722</td>\n",
       "      <td>-1.055559</td>\n",
       "      <td>3.633550</td>\n",
       "      <td>18612.0</td>\n",
       "      <td>0.235367</td>\n",
       "      <td>...</td>\n",
       "      <td>NaN</td>\n",
       "      <td>0.57</td>\n",
       "      <td>36.0</td>\n",
       "      <td>0.67</td>\n",
       "      <td>5.0</td>\n",
       "      <td>-0.82</td>\n",
       "      <td>3.0</td>\n",
       "      <td>-1.21</td>\n",
       "      <td>3.0</td>\n",
       "      <td>18.0</td>\n",
       "    </tr>\n",
       "    <tr>\n",
       "      <th>1838</th>\n",
       "      <td>101</td>\n",
       "      <td>8</td>\n",
       "      <td>PART_A</td>\n",
       "      <td>True</td>\n",
       "      <td>20</td>\n",
       "      <td>0.134722</td>\n",
       "      <td>NaN</td>\n",
       "      <td>4.004380</td>\n",
       "      <td>16072.0</td>\n",
       "      <td>0.276684</td>\n",
       "      <td>...</td>\n",
       "      <td>NaN</td>\n",
       "      <td>0.57</td>\n",
       "      <td>36.0</td>\n",
       "      <td>0.67</td>\n",
       "      <td>5.0</td>\n",
       "      <td>-0.82</td>\n",
       "      <td>3.0</td>\n",
       "      <td>-1.21</td>\n",
       "      <td>3.0</td>\n",
       "      <td>18.0</td>\n",
       "    </tr>\n",
       "    <tr>\n",
       "      <th>1839</th>\n",
       "      <td>101</td>\n",
       "      <td>4</td>\n",
       "      <td>PART_B</td>\n",
       "      <td>True</td>\n",
       "      <td>21</td>\n",
       "      <td>0.134722</td>\n",
       "      <td>-2.775021</td>\n",
       "      <td>3.991007</td>\n",
       "      <td>25002.0</td>\n",
       "      <td>0.174511</td>\n",
       "      <td>...</td>\n",
       "      <td>NaN</td>\n",
       "      <td>0.57</td>\n",
       "      <td>36.0</td>\n",
       "      <td>0.67</td>\n",
       "      <td>5.0</td>\n",
       "      <td>-0.82</td>\n",
       "      <td>3.0</td>\n",
       "      <td>-1.21</td>\n",
       "      <td>3.0</td>\n",
       "      <td>18.0</td>\n",
       "    </tr>\n",
       "  </tbody>\n",
       "</table>\n",
       "<p>1022 rows × 108 columns</p>\n",
       "</div>"
      ]
     },
     "execution_count": 4,
     "metadata": {},
     "output_type": "execute_result"
    }
   ],
   "execution_count": 4
  },
  {
   "metadata": {
    "ExecuteTime": {
     "end_time": "2025-09-25T19:23:27.564091Z",
     "start_time": "2025-09-25T19:23:27.549065Z"
    }
   },
   "cell_type": "code",
   "source": [
    "#select a random row from subject_analysis\n",
    "import random\n",
    "random_row = subject_analysis.sample(n=1, random_state=72).iloc[0]\n",
    "subject_id = random_row['subject_id']\n",
    "trial_id = random_row['trial_id']\n",
    "print(f\"Subject ID: {subject_id}, Trial ID: {trial_id}\")\n",
    "random_row"
   ],
   "id": "80e6e93c6f764b51",
   "outputs": [
    {
     "name": "stdout",
     "output_type": "stream",
     "text": [
      "Subject ID: 21, Trial ID: 4\n"
     ]
    },
    {
     "data": {
      "text/plain": [
       "subject_id                       21\n",
       "trial_id                          4\n",
       "trial_type                   PART_A\n",
       "is_valid                       True\n",
       "trial_order_of_appearance        10\n",
       "                              ...  \n",
       "forward_digit_span_z          -0.64\n",
       "backward_digit_span_raw         5.0\n",
       "backward_digit_span_z           0.5\n",
       "clock_drawing_test              3.0\n",
       "years_of_education             12.0\n",
       "Name: 408, Length: 108, dtype: object"
      ]
     },
     "execution_count": 8,
     "metadata": {},
     "output_type": "execute_result"
    }
   ],
   "execution_count": 8
  },
  {
   "metadata": {
    "ExecuteTime": {
     "end_time": "2025-09-25T19:24:47.855312Z",
     "start_time": "2025-09-25T19:24:47.852240Z"
    }
   },
   "cell_type": "code",
   "source": [
    "subject = experiment.subjects[\"00\" + str(subject_id)]\n",
    "trial = subject.testing_trials[trial_id]"
   ],
   "id": "4399f77d837f364",
   "outputs": [],
   "execution_count": 13
  },
  {
   "metadata": {
    "ExecuteTime": {
     "end_time": "2025-09-25T19:33:25.398695Z",
     "start_time": "2025-09-25T19:33:24.374935Z"
    }
   },
   "cell_type": "code",
   "source": [
    "from src.visualization.trial_plotting import plot_with_color\n",
    "for i in [1,2,3,4,5,89]:\n",
    "    random_row = subject_analysis.sample(n=1, random_state=i).iloc[0]\n",
    "    subject_id = random_row['subject_id']\n",
    "    trial_id = random_row['trial_id']\n",
    "    print(f\"Subject ID: {subject_id}, Trial ID: {trial_id}\")\n",
    "    subject = experiment.subjects[\"00\" + str(subject_id)]\n",
    "    trial = subject.testing_trials[trial_id]\n",
    "    plot_with_color(trial = trial, target_radius= subject.target_radius)"
   ],
   "id": "4a634c50f49fdb4e",
   "outputs": [
    {
     "name": "stdout",
     "output_type": "stream",
     "text": [
      "Subject ID: 22, Trial ID: 12\n",
      "Subject ID: 41, Trial ID: 21\n"
     ]
    },
    {
     "ename": "IndexError",
     "evalue": "list index out of range",
     "output_type": "error",
     "traceback": [
      "\u001B[0;31m---------------------------------------------------------------------------\u001B[0m",
      "\u001B[0;31mIndexError\u001B[0m                                Traceback (most recent call last)",
      "Cell \u001B[0;32mIn[17], line 8\u001B[0m\n\u001B[1;32m      6\u001B[0m \u001B[38;5;28mprint\u001B[39m(\u001B[38;5;124mf\u001B[39m\u001B[38;5;124m\"\u001B[39m\u001B[38;5;124mSubject ID: \u001B[39m\u001B[38;5;132;01m{\u001B[39;00msubject_id\u001B[38;5;132;01m}\u001B[39;00m\u001B[38;5;124m, Trial ID: \u001B[39m\u001B[38;5;132;01m{\u001B[39;00mtrial_id\u001B[38;5;132;01m}\u001B[39;00m\u001B[38;5;124m\"\u001B[39m)\n\u001B[1;32m      7\u001B[0m subject \u001B[38;5;241m=\u001B[39m experiment\u001B[38;5;241m.\u001B[39msubjects[\u001B[38;5;124m\"\u001B[39m\u001B[38;5;124m00\u001B[39m\u001B[38;5;124m\"\u001B[39m \u001B[38;5;241m+\u001B[39m \u001B[38;5;28mstr\u001B[39m(subject_id)]\n\u001B[0;32m----> 8\u001B[0m trial \u001B[38;5;241m=\u001B[39m \u001B[43msubject\u001B[49m\u001B[38;5;241;43m.\u001B[39;49m\u001B[43mtesting_trials\u001B[49m\u001B[43m[\u001B[49m\u001B[43mtrial_id\u001B[49m\u001B[43m]\u001B[49m\n\u001B[1;32m      9\u001B[0m plot_with_color(trial \u001B[38;5;241m=\u001B[39m trial, target_radius\u001B[38;5;241m=\u001B[39m subject\u001B[38;5;241m.\u001B[39mtarget_radius)\n",
      "\u001B[0;31mIndexError\u001B[0m: list index out of range"
     ]
    },
    {
     "data": {
      "text/plain": [
       "<Figure size 800x800 with 2 Axes>"
      ],
      "image/png": "[encoded data removed]"
     },
     "metadata": {},
     "output_type": "display_data"
    }
   ],
   "execution_count": 17
  }
 ],
 "metadata": {
  "kernelspec": {
   "display_name": "Python 3",
   "language": "python",
   "name": "python3"
  },
  "language_info": {
   "codemirror_mode": {
    "name": "ipython",
    "version": 2
   },
   "file_extension": ".py",
   "mimetype": "text/x-python",
   "name": "python",
   "nbconvert_exporter": "python",
   "pygments_lexer": "ipython2",
   "version": "2.7.6"
  }
 },
 "nbformat": 4,
 "nbformat_minor": 5
}
