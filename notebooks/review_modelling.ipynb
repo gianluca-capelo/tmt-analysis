{
 "cells": [
  {
   "cell_type": "code",
   "id": "initial_id",
   "metadata": {
    "collapsed": true,
    "ExecuteTime": {
     "end_time": "2025-07-19T14:28:47.170462Z",
     "start_time": "2025-07-19T14:28:47.115699Z"
    }
   },
   "source": [
    "from src.hand_analysis.loader.load_last_split import load_last_analysis\n",
    "\n",
    "#No hay eval set, solo train set\n",
    "df, _= load_last_analysis()"
   ],
   "outputs": [],
   "execution_count": 16
  },
  {
   "metadata": {
    "ExecuteTime": {
     "end_time": "2025-07-19T14:28:49.228047Z",
     "start_time": "2025-07-19T14:28:49.216037Z"
    }
   },
   "cell_type": "code",
   "source": "df.columns",
   "id": "5f3508578a5313df",
   "outputs": [
    {
     "data": {
      "text/plain": [
       "Index(['subject_id', 'trial_id', 'trial_type', 'is_valid',\n",
       "       'trial_order_of_appearance', 'speed_threshold',\n",
       "       'non_cut_zigzag_amplitude', 'non_cut_total_distance', 'non_cut_rt',\n",
       "       'non_cut_mean_speed',\n",
       "       ...\n",
       "       'tmt b papel errores', 'tmt_b_z', 'digit_symbol_raw', 'digit_symbol_z',\n",
       "       'forward_digit_span_raw', 'forward_digit_span_z',\n",
       "       'backward_digit_span_raw', 'backward_digit_span_z',\n",
       "       'clock_drawing_test', 'years_of_education'],\n",
       "      dtype='object', length=108)"
      ]
     },
     "execution_count": 17,
     "metadata": {},
     "output_type": "execute_result"
    }
   ],
   "execution_count": 17
  }
 ],
 "metadata": {
  "kernelspec": {
   "display_name": "Python 3",
   "language": "python",
   "name": "python3"
  },
  "language_info": {
   "codemirror_mode": {
    "name": "ipython",
    "version": 2
   },
   "file_extension": ".py",
   "mimetype": "text/x-python",
   "name": "python",
   "nbconvert_exporter": "python",
   "pygments_lexer": "ipython2",
   "version": "2.7.6"
  }
 },
 "nbformat": 4,
 "nbformat_minor": 5
}
